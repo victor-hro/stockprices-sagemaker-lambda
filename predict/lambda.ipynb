{
 "cells": [
  {
   "cell_type": "code",
   "execution_count": 40,
   "id": "99f0c47f-3940-4d62-b4f7-8f9a367c398f",
   "metadata": {
    "tags": []
   },
   "outputs": [],
   "source": [
    "import configparser\n",
    "import boto3\n",
    "\n",
    "config = configparser.ConfigParser()\n",
    "config.read('../config/sagemaker_config.ini')\n",
    "\n",
    "endpoint_name = config['Sagemaker']['endpoint_name']\n",
    "runtime = boto3.client('runtime.sagemaker')"
   ]
  },
  {
   "cell_type": "code",
   "execution_count": 45,
   "id": "2cef81b2-045e-4051-921d-abf225a12118",
   "metadata": {
    "tags": []
   },
   "outputs": [
    {
     "data": {
      "text/plain": [
       "'sagemaker-xgboost-2024-03-15-01-29-16-895'"
      ]
     },
     "execution_count": 45,
     "metadata": {},
     "output_type": "execute_result"
    }
   ],
   "source": [
    "# endpoint que será enviado para a lambda function\n",
    "endpoint_name"
   ]
  },
  {
   "cell_type": "markdown",
   "id": "5bdd9471-c06e-4379-9f3a-8af8f84f5a58",
   "metadata": {},
   "source": [
    "Desenvolvimento da lambda function"
   ]
  },
  {
   "cell_type": "code",
   "execution_count": 41,
   "id": "afd5bccf-b6ee-435e-9193-5fc52ab09422",
   "metadata": {
    "tags": []
   },
   "outputs": [],
   "source": [
    "def lambda_handler(event, context):\n",
    "    inputs = event['data']\n",
    "    result = []\n",
    "    \n",
    "    for input_ in inputs:\n",
    "        serialized_input = ','.join(map(str, input_))\n",
    "\n",
    "        response = runtime.invoke_endpoint(EndpointName=endpoint_name,\n",
    "                                           ContentType='text/csv',\n",
    "                                           Body=serialized_input)\n",
    "\n",
    "        result.append(response['Body']\n",
    "                      .read()\n",
    "                      .strip()\n",
    "                      .decode())\n",
    "    return result"
   ]
  },
  {
   "cell_type": "markdown",
   "id": "de5ff3cb-4a84-4d70-bfc7-2f5ace097eea",
   "metadata": {
    "tags": []
   },
   "source": [
    "Teste da function"
   ]
  },
  {
   "cell_type": "code",
   "execution_count": 44,
   "id": "3aa4a383-e8a5-4886-a4dc-67d73232986e",
   "metadata": {
    "tags": []
   },
   "outputs": [
    {
     "data": {
      "text/plain": [
       "['186.54136657714844', '186.54136657714844']"
      ]
     },
     "execution_count": 44,
     "metadata": {},
     "output_type": "execute_result"
    }
   ],
   "source": [
    "input_ = {\n",
    "    'data':\n",
    "    [\n",
    "        [1.84350006e+02, 1.86399994e+02, 1.83919998e+02, 1.86190002e+02,4.67929000e+07],\n",
    "        [1.84350006e+02, 1.86399994e+02, 1.83919998e+02, 1.86190002e+02,4.67929000e+07]\n",
    "    ]\n",
    "}\n",
    "\n",
    "lambda_handler(input_, _)"
   ]
  }
 ],
 "metadata": {
  "kernelspec": {
   "display_name": "conda_python3",
   "language": "python",
   "name": "conda_python3"
  },
  "language_info": {
   "codemirror_mode": {
    "name": "ipython",
    "version": 3
   },
   "file_extension": ".py",
   "mimetype": "text/x-python",
   "name": "python",
   "nbconvert_exporter": "python",
   "pygments_lexer": "ipython3",
   "version": "3.10.13"
  }
 },
 "nbformat": 4,
 "nbformat_minor": 5
}
