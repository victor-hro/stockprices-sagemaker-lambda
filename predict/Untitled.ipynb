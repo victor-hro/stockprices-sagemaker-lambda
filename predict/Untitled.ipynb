{
 "cells": [
  {
   "cell_type": "code",
   "execution_count": 29,
   "id": "763c2c56-0952-45ce-9d25-0804cca149a9",
   "metadata": {
    "tags": []
   },
   "outputs": [
    {
     "name": "stderr",
     "output_type": "stream",
     "text": [
      "[*********************100%%**********************]  1 of 1 completed\n"
     ]
    }
   ],
   "source": [
    "import pathlib\n",
    "import os\n",
    "import sys\n",
    "import boto3\n",
    "\n",
    "CURRENT_DIR = pathlib.Path('./').resolve().parent\n",
    "\n",
    "# Adicione o diretório ao sys.path\n",
    "sys.path.append(str(CURRENT_DIR))\n",
    "\n",
    "from config import config\n",
    "\n",
    "import pandas as pd\n",
    "from datetime import datetime\n",
    "\n",
    "\n",
    "import yfinance as yf"
   ]
  },
  {
   "cell_type": "markdown",
   "id": "f6a76559-04ed-4801-b7ba-d6a05776e850",
   "metadata": {},
   "source": [
    "# Prepare the data"
   ]
  },
  {
   "cell_type": "code",
   "execution_count": null,
   "id": "4a45e4be-0c50-40c7-8e99-7804d74a8f35",
   "metadata": {},
   "outputs": [],
   "source": [
    "# data parameters\n",
    "start_date = datetime(2024,1,10)\n",
    "end_date = datetime(2024,1,11)\n",
    "\n",
    "# getting the data\n",
    "df = yf.download('AAPL', start=start_date, end=end_date)\n",
    "df.reset_index(inplace=True)"
   ]
  },
  {
   "cell_type": "code",
   "execution_count": 32,
   "id": "0ffa4edf-3119-43de-9afc-62692f359e7f",
   "metadata": {
    "tags": []
   },
   "outputs": [],
   "source": [
    "df_transform = df.copy()"
   ]
  },
  {
   "cell_type": "code",
   "execution_count": 33,
   "id": "3fd0c8e2-f19e-43b7-aaa2-37288f5316a3",
   "metadata": {
    "tags": []
   },
   "outputs": [],
   "source": [
    "df_transform.drop(columns=['Adj Close'], inplace=True)\n",
    "df_transform.drop(columns=['Date'], inplace=True)"
   ]
  },
  {
   "cell_type": "code",
   "execution_count": 35,
   "id": "0d7400ee-1bef-4e88-9c41-8504d7a73234",
   "metadata": {
    "tags": []
   },
   "outputs": [
    {
     "data": {
      "text/plain": [
       "array([[1.84350006e+02, 1.86399994e+02, 1.83919998e+02, 1.86190002e+02,\n",
       "        4.67929000e+07]])"
      ]
     },
     "execution_count": 35,
     "metadata": {},
     "output_type": "execute_result"
    }
   ],
   "source": [
    "features = df_transform.values\n",
    "features"
   ]
  },
  {
   "cell_type": "markdown",
   "id": "edfdc67f-9e87-4d07-9ab8-fb5306dd85ba",
   "metadata": {},
   "source": [
    "# Serialize data"
   ]
  },
  {
   "cell_type": "code",
   "execution_count": 36,
   "id": "79e9f87f-9f81-4cb0-92e3-422459c2cc49",
   "metadata": {
    "tags": []
   },
   "outputs": [
    {
     "data": {
      "text/plain": [
       "array([[1.84350006e+02, 1.86399994e+02, 1.83919998e+02, 1.86190002e+02,\n",
       "        4.67929000e+07]])"
      ]
     },
     "execution_count": 36,
     "metadata": {},
     "output_type": "execute_result"
    }
   ],
   "source": [
    "features"
   ]
  }
 ],
 "metadata": {
  "kernelspec": {
   "display_name": "conda_python3",
   "language": "python",
   "name": "conda_python3"
  },
  "language_info": {
   "codemirror_mode": {
    "name": "ipython",
    "version": 3
   },
   "file_extension": ".py",
   "mimetype": "text/x-python",
   "name": "python",
   "nbconvert_exporter": "python",
   "pygments_lexer": "ipython3",
   "version": "3.10.13"
  }
 },
 "nbformat": 4,
 "nbformat_minor": 5
}
