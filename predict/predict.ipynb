{
 "cells": [
  {
   "cell_type": "code",
   "execution_count": 14,
   "id": "b6dc9e8e-9fc5-44d9-8317-3d3c6ea984f5",
   "metadata": {
    "tags": []
   },
   "outputs": [],
   "source": [
    "import requests"
   ]
  },
  {
   "cell_type": "code",
   "execution_count": 15,
   "id": "c1d1804b-21ca-492e-9a63-431967a184dc",
   "metadata": {
    "tags": []
   },
   "outputs": [],
   "source": [
    "API_ENDPOINT = \"https://y0iv3ht1d1.execute-api.us-east-1.amazonaws.com/stockprices-model\"\n",
    "\n",
    "json = {\n",
    "    'data':\n",
    "    [\n",
    "        [1.84350006e+02, 1.86399994e+02, 1.83919998e+02, 1.86190002e+02,4.67929000e+07],\n",
    "        [1.84350006e+02, 1.86399994e+02, 1.83919998e+02, 1.86190002e+02,4.67929000e+07]\n",
    "    ]\n",
    "}\n",
    "\n",
    "response = requests.post(API_ENDPOINT, json=json)"
   ]
  },
  {
   "cell_type": "code",
   "execution_count": 17,
   "id": "785bd103-e96e-4a13-a5b0-c8960ba2d697",
   "metadata": {
    "tags": []
   },
   "outputs": [
    {
     "name": "stdout",
     "output_type": "stream",
     "text": [
      "Response ['186.54136657714844', '186.54136657714844']\n"
     ]
    }
   ],
   "source": [
    "print('Response', response.json())"
   ]
  }
 ],
 "metadata": {
  "kernelspec": {
   "display_name": "conda_python3",
   "language": "python",
   "name": "conda_python3"
  },
  "language_info": {
   "codemirror_mode": {
    "name": "ipython",
    "version": 3
   },
   "file_extension": ".py",
   "mimetype": "text/x-python",
   "name": "python",
   "nbconvert_exporter": "python",
   "pygments_lexer": "ipython3",
   "version": "3.10.13"
  }
 },
 "nbformat": 4,
 "nbformat_minor": 5
}
