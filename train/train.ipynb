{
 "cells": [
  {
   "cell_type": "code",
   "execution_count": 1,
   "id": "a4b4db13-2b1a-4eae-b71f-c488e88286b1",
   "metadata": {
    "tags": []
   },
   "outputs": [],
   "source": [
    "import pathlib\n",
    "import os\n",
    "import sys\n",
    "import boto3\n",
    "\n",
    "CURRENT_DIR = pathlib.Path('.').resolve().parent\n",
    "\n",
    "# Adicione o diretório ao sys.path\n",
    "sys.path.append(str(CURRENT_DIR))\n",
    "\n",
    "from config import config\n",
    "\n",
    "import pandas as pd"
   ]
  },
  {
   "cell_type": "code",
   "execution_count": 2,
   "id": "03736262-5d12-4fd6-94ed-6a660070d558",
   "metadata": {
    "tags": []
   },
   "outputs": [
    {
     "name": "stdout",
     "output_type": "stream",
     "text": [
      "sagemaker.config INFO - Not applying SDK defaults from location: /etc/xdg/sagemaker/config.yaml\n",
      "sagemaker.config INFO - Not applying SDK defaults from location: /home/ec2-user/.config/sagemaker/config.yaml\n"
     ]
    }
   ],
   "source": [
    "import sagemaker\n",
    "from sagemaker import image_uris\n",
    "from sagemaker.session import Session\n",
    "from sagemaker.inputs import TrainingInput"
   ]
  },
  {
   "cell_type": "code",
   "execution_count": 3,
   "id": "c0dd404f-403a-4084-86f8-f3dac2b15a6a",
   "metadata": {
    "tags": []
   },
   "outputs": [
    {
     "data": {
      "text/plain": [
       "'683313688378.dkr.ecr.us-east-1.amazonaws.com/sagemaker-xgboost:1.2-2'"
      ]
     },
     "metadata": {},
     "output_type": "display_data"
    }
   ],
   "source": [
    "xgboost_container = image_uris.retrieve('xgboost', boto3.Session().region_name, \"1.2-2\")\n",
    "display(xgboost_container)"
   ]
  },
  {
   "cell_type": "code",
   "execution_count": 4,
   "id": "2ea98393-6740-421a-a407-55b0dbd4a665",
   "metadata": {
    "tags": []
   },
   "outputs": [],
   "source": [
    "hyperparameters = {\n",
    "    'max_depth': '5'\n",
    "    , 'subsample': '0.7'\n",
    "    , 'objective': 'reg:squarederror'\n",
    "    , 'early_stopping_rounds': 10\n",
    "    , 'num_round': 1000\n",
    "}"
   ]
  },
  {
   "cell_type": "code",
   "execution_count": 5,
   "id": "7805d561-e665-454f-b2a5-a0949e2926ef",
   "metadata": {
    "tags": []
   },
   "outputs": [],
   "source": [
    "estimator = sagemaker.estimator.Estimator(image_uri=xgboost_container,\n",
    "                                          hyperparameters=hyperparameters,\n",
    "                                          role=sagemaker.get_execution_role(),\n",
    "                                          instance_count=1,\n",
    "                                          instance_type='ml.m4.xlarge',\n",
    "                                          volume_size=5,\n",
    "                                          output_path=config.OUTPUT,\n",
    "                                          use_spot_instances=True,\n",
    "                                          max_run=300,\n",
    "                                          max_wait=600\n",
    ")"
   ]
  },
  {
   "cell_type": "code",
   "execution_count": 6,
   "id": "1855e210-dccc-4c2c-8410-a06873ac2958",
   "metadata": {
    "tags": []
   },
   "outputs": [],
   "source": [
    "content_type='csv'\n",
    "train_input = TrainingInput(config.TRAIN_CSV_PATH, content_type=content_type)\n",
    "test_input = TrainingInput(config.TEST_CSV_PATH, content_type=content_type)"
   ]
  },
  {
   "cell_type": "code",
   "execution_count": 7,
   "id": "e144459f-3eda-454a-947a-5341877718c4",
   "metadata": {
    "tags": []
   },
   "outputs": [
    {
     "name": "stderr",
     "output_type": "stream",
     "text": [
      "INFO:sagemaker:Creating training-job with name: sagemaker-xgboost-2024-03-15-01-11-53-132\n"
     ]
    },
    {
     "name": "stdout",
     "output_type": "stream",
     "text": [
      "2024-03-15 01:11:53 Starting - Starting the training job...\n",
      "2024-03-15 01:12:16 Starting - Preparing the instances for training......\n",
      "2024-03-15 01:13:23 Downloading - Downloading input data...\n",
      "2024-03-15 01:13:49 Downloading - Downloading the training image.........\n",
      "2024-03-15 01:15:15 Training - Training image download completed. Training in progress.\n",
      "2024-03-15 01:15:15 Uploading - Uploading generated training model\u001b[34m[2024-03-15 01:15:11.031 ip-10-2-201-226.ec2.internal:7 INFO utils.py:27] RULE_JOB_STOP_SIGNAL_FILENAME: None\u001b[0m\n",
      "\u001b[34m[2024-03-15:01:15:11:INFO] Imported framework sagemaker_xgboost_container.training\u001b[0m\n",
      "\u001b[34m[2024-03-15:01:15:11:INFO] Failed to parse hyperparameter objective value reg:squarederror to Json.\u001b[0m\n",
      "\u001b[34mReturning the value itself\u001b[0m\n",
      "\u001b[34m[2024-03-15:01:15:11:INFO] No GPUs detected (normal if no gpus installed)\u001b[0m\n",
      "\u001b[34m[2024-03-15:01:15:11:INFO] Running XGBoost Sagemaker in algorithm mode\u001b[0m\n",
      "\u001b[34m[2024-03-15:01:15:11:INFO] Determined delimiter of CSV input is ','\u001b[0m\n",
      "\u001b[34m[2024-03-15:01:15:11:INFO] Determined delimiter of CSV input is ','\u001b[0m\n",
      "\u001b[34m[2024-03-15:01:15:11:INFO] Determined delimiter of CSV input is ','\u001b[0m\n",
      "\u001b[34m[2024-03-15:01:15:11:INFO] Determined delimiter of CSV input is ','\u001b[0m\n",
      "\u001b[34m[2024-03-15:01:15:11:INFO] Single node training.\u001b[0m\n",
      "\u001b[34m[2024-03-15:01:15:11:INFO] Train matrix has 400 rows and 5 columns\u001b[0m\n",
      "\u001b[34m[2024-03-15:01:15:11:INFO] Validation matrix has 100 rows\u001b[0m\n",
      "\u001b[34m[2024-03-15 01:15:11.131 ip-10-2-201-226.ec2.internal:7 INFO json_config.py:91] Creating hook from json_config at /opt/ml/input/config/debughookconfig.json.\u001b[0m\n",
      "\u001b[34m[2024-03-15 01:15:11.132 ip-10-2-201-226.ec2.internal:7 INFO hook.py:201] tensorboard_dir has not been set for the hook. SMDebug will not be exporting tensorboard summaries.\u001b[0m\n",
      "\u001b[34m[2024-03-15 01:15:11.132 ip-10-2-201-226.ec2.internal:7 INFO profiler_config_parser.py:102] User has disabled profiler.\u001b[0m\n",
      "\u001b[34m[2024-03-15 01:15:11.133 ip-10-2-201-226.ec2.internal:7 INFO hook.py:255] Saving to /opt/ml/output/tensors\u001b[0m\n",
      "\u001b[34m[2024-03-15 01:15:11.133 ip-10-2-201-226.ec2.internal:7 INFO state_store.py:77] The checkpoint config file /opt/ml/input/config/checkpointconfig.json does not exist.\u001b[0m\n",
      "\u001b[34m[2024-03-15:01:15:11:INFO] Debug hook created from config\u001b[0m\n",
      "\u001b[34m[0]#011train-rmse:115.60418#011validation-rmse:114.72332\u001b[0m\n",
      "\u001b[34m[2024-03-15 01:15:11.136 ip-10-2-201-226.ec2.internal:7 INFO hook.py:423] Monitoring the collections: metrics\u001b[0m\n",
      "\u001b[34m[2024-03-15 01:15:11.138 ip-10-2-201-226.ec2.internal:7 INFO hook.py:486] Hook is writing from the hook with pid: 7\u001b[0m\n",
      "\u001b[34m[1]#011train-rmse:81.29578#011validation-rmse:80.73180\u001b[0m\n",
      "\u001b[34m[2]#011train-rmse:57.31662#011validation-rmse:56.93898\u001b[0m\n",
      "\u001b[34m[3]#011train-rmse:40.42153#011validation-rmse:40.10042\u001b[0m\n",
      "\u001b[34m[4]#011train-rmse:28.52480#011validation-rmse:28.24872\u001b[0m\n",
      "\u001b[34m[5]#011train-rmse:20.13150#011validation-rmse:19.90115\u001b[0m\n",
      "\u001b[34m[6]#011train-rmse:14.27712#011validation-rmse:14.04627\u001b[0m\n",
      "\u001b[34m[7]#011train-rmse:10.21029#011validation-rmse:9.99737\u001b[0m\n",
      "\u001b[34m[8]#011train-rmse:7.33029#011validation-rmse:7.17481\u001b[0m\n",
      "\u001b[34m[9]#011train-rmse:5.38249#011validation-rmse:5.24118\u001b[0m\n",
      "\u001b[34m[10]#011train-rmse:3.97905#011validation-rmse:3.90356\u001b[0m\n",
      "\u001b[34m[11]#011train-rmse:3.07163#011validation-rmse:3.09451\u001b[0m\n",
      "\u001b[34m[12]#011train-rmse:2.49217#011validation-rmse:2.62949\u001b[0m\n",
      "\u001b[34m[13]#011train-rmse:2.05854#011validation-rmse:2.29117\u001b[0m\n",
      "\u001b[34m[14]#011train-rmse:1.76832#011validation-rmse:2.17351\u001b[0m\n",
      "\u001b[34m[15]#011train-rmse:1.61539#011validation-rmse:2.09874\u001b[0m\n",
      "\u001b[34m[16]#011train-rmse:1.48338#011validation-rmse:1.99046\u001b[0m\n",
      "\u001b[34m[17]#011train-rmse:1.37817#011validation-rmse:1.95578\u001b[0m\n",
      "\u001b[34m[18]#011train-rmse:1.31735#011validation-rmse:1.95532\u001b[0m\n",
      "\u001b[34m[19]#011train-rmse:1.28106#011validation-rmse:1.94278\u001b[0m\n",
      "\u001b[34m[20]#011train-rmse:1.24250#011validation-rmse:1.93380\u001b[0m\n",
      "\u001b[34m[21]#011train-rmse:1.20913#011validation-rmse:1.95460\u001b[0m\n",
      "\u001b[34m[22]#011train-rmse:1.19081#011validation-rmse:1.95783\u001b[0m\n",
      "\u001b[34m[23]#011train-rmse:1.14063#011validation-rmse:1.95276\u001b[0m\n",
      "\u001b[34m[24]#011train-rmse:1.11709#011validation-rmse:1.95934\u001b[0m\n",
      "\u001b[34m[25]#011train-rmse:1.08086#011validation-rmse:1.99713\u001b[0m\n",
      "\u001b[34m[26]#011train-rmse:1.04169#011validation-rmse:2.01376\u001b[0m\n",
      "\u001b[34m[27]#011train-rmse:0.98916#011validation-rmse:2.03655\u001b[0m\n",
      "\u001b[34m[28]#011train-rmse:0.97945#011validation-rmse:2.03936\u001b[0m\n",
      "\u001b[34m[29]#011train-rmse:0.93949#011validation-rmse:2.02767\u001b[0m\n",
      "\u001b[34m[30]#011train-rmse:0.91965#011validation-rmse:2.03719\u001b[0m\n",
      "\n",
      "2024-03-15 01:15:30 Completed - Training job completed\n",
      "Training seconds: 127\n",
      "Billable seconds: 63\n",
      "Managed Spot Training savings: 50.4%\n"
     ]
    }
   ],
   "source": [
    "estimator.fit({\n",
    "    'train': train_input,\n",
    "    'validation': test_input\n",
    "})"
   ]
  },
  {
   "cell_type": "markdown",
   "id": "a84cc6a5-5eb7-475c-a7d3-1dd5b93f3c08",
   "metadata": {},
   "source": [
    "# Deploy"
   ]
  },
  {
   "cell_type": "code",
   "execution_count": 9,
   "id": "91f0b3f4-a6cc-4229-a541-4f9d51a6be1c",
   "metadata": {
    "tags": []
   },
   "outputs": [
    {
     "name": "stderr",
     "output_type": "stream",
     "text": [
      "INFO:sagemaker:Creating model with name: sagemaker-xgboost-2024-03-15-01-29-16-895\n",
      "INFO:sagemaker:Creating endpoint-config with name sagemaker-xgboost-2024-03-15-01-29-16-895\n",
      "INFO:sagemaker:Creating endpoint with name sagemaker-xgboost-2024-03-15-01-29-16-895\n"
     ]
    },
    {
     "name": "stdout",
     "output_type": "stream",
     "text": [
      "------!"
     ]
    }
   ],
   "source": [
    "from sagemaker.serializers import CSVSerializer\n",
    "\n",
    "# initial instance count = the number of instances to deploy\n",
    "# serializer = content type of the input data = csv format\n",
    "xgb_predictor = estimator.deploy(initial_instance_count=1\n",
    "                                 , instance_type='ml.m4.xlarge'\n",
    "                                 , serializer=CSVSerializer())"
   ]
  },
  {
   "cell_type": "code",
   "execution_count": 13,
   "id": "2e892d0a-be28-436a-804a-aee8ea4f61d3",
   "metadata": {
    "tags": []
   },
   "outputs": [
    {
     "data": {
      "text/plain": [
       "'sagemaker-xgboost-2024-03-15-01-29-16-895'"
      ]
     },
     "execution_count": 13,
     "metadata": {},
     "output_type": "execute_result"
    }
   ],
   "source": [
    "ENDPOINT_NAME = xgb_predictor.endpoint_name\n",
    "ENDPOINT_NAME"
   ]
  },
  {
   "cell_type": "code",
   "execution_count": 16,
   "id": "8a163a17-e68b-41fe-a9a4-3124a12883c4",
   "metadata": {
    "tags": []
   },
   "outputs": [],
   "source": [
    "import configparser\n",
    "\n",
    "config = configparser.ConfigParser()\n",
    "config['Sagemaker'] = {'endpoint_name': ENDPOINT_NAME}\n",
    "\n",
    "with open('../config/sagemaker_config.ini', 'w') as configfile:\n",
    "    config.write(configfile)"
   ]
  },
  {
   "cell_type": "code",
   "execution_count": null,
   "id": "4fa325f7-fdc3-4529-98d1-b491cc41b118",
   "metadata": {},
   "outputs": [],
   "source": []
  },
  {
   "cell_type": "code",
   "execution_count": 14,
   "id": "b830b3e0-4e96-46a5-8c3e-36c6c010392b",
   "metadata": {
    "tags": []
   },
   "outputs": [],
   "source": [
    "runtime = boto3.client('runtime.sagemaker')"
   ]
  },
  {
   "cell_type": "code",
   "execution_count": 17,
   "id": "3574c598-f6e1-4dcc-976d-60d97466e8fe",
   "metadata": {
    "tags": []
   },
   "outputs": [
    {
     "data": {
      "text/plain": [
       "<botocore.client.SageMakerRuntime at 0x7fbe42ce8a60>"
      ]
     },
     "execution_count": 17,
     "metadata": {},
     "output_type": "execute_result"
    }
   ],
   "source": [
    "runtime"
   ]
  },
  {
   "cell_type": "code",
   "execution_count": null,
   "id": "8b31d194-4cef-4705-9cdd-2d8fe99495a2",
   "metadata": {},
   "outputs": [],
   "source": []
  }
 ],
 "metadata": {
  "kernelspec": {
   "display_name": "conda_python3",
   "language": "python",
   "name": "conda_python3"
  },
  "language_info": {
   "codemirror_mode": {
    "name": "ipython",
    "version": 3
   },
   "file_extension": ".py",
   "mimetype": "text/x-python",
   "name": "python",
   "nbconvert_exporter": "python",
   "pygments_lexer": "ipython3",
   "version": "3.10.13"
  }
 },
 "nbformat": 4,
 "nbformat_minor": 5
}
