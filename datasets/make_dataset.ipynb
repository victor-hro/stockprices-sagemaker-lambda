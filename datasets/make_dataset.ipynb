{
 "cells": [
  {
   "cell_type": "code",
   "execution_count": 2,
   "id": "3234ad01-ad9a-404c-a6f7-8089c7f2b848",
   "metadata": {
    "tags": []
   },
   "outputs": [
    {
     "name": "stderr",
     "output_type": "stream",
     "text": [
      "[*********************100%%**********************]  1 of 1 completed\n"
     ]
    },
    {
     "data": {
      "text/html": [
       "<div>\n",
       "<style scoped>\n",
       "    .dataframe tbody tr th:only-of-type {\n",
       "        vertical-align: middle;\n",
       "    }\n",
       "\n",
       "    .dataframe tbody tr th {\n",
       "        vertical-align: top;\n",
       "    }\n",
       "\n",
       "    .dataframe thead th {\n",
       "        text-align: right;\n",
       "    }\n",
       "</style>\n",
       "<table border=\"1\" class=\"dataframe\">\n",
       "  <thead>\n",
       "    <tr style=\"text-align: right;\">\n",
       "      <th></th>\n",
       "      <th>Date</th>\n",
       "      <th>Open</th>\n",
       "      <th>High</th>\n",
       "      <th>Low</th>\n",
       "      <th>Close</th>\n",
       "      <th>Adj Close</th>\n",
       "      <th>Volume</th>\n",
       "    </tr>\n",
       "  </thead>\n",
       "  <tbody>\n",
       "    <tr>\n",
       "      <th>0</th>\n",
       "      <td>2022-01-03</td>\n",
       "      <td>177.830002</td>\n",
       "      <td>182.880005</td>\n",
       "      <td>177.710007</td>\n",
       "      <td>182.009995</td>\n",
       "      <td>179.724533</td>\n",
       "      <td>104487900</td>\n",
       "    </tr>\n",
       "    <tr>\n",
       "      <th>1</th>\n",
       "      <td>2022-01-04</td>\n",
       "      <td>182.630005</td>\n",
       "      <td>182.940002</td>\n",
       "      <td>179.119995</td>\n",
       "      <td>179.699997</td>\n",
       "      <td>177.443573</td>\n",
       "      <td>99310400</td>\n",
       "    </tr>\n",
       "    <tr>\n",
       "      <th>2</th>\n",
       "      <td>2022-01-05</td>\n",
       "      <td>179.610001</td>\n",
       "      <td>180.169998</td>\n",
       "      <td>174.639999</td>\n",
       "      <td>174.919998</td>\n",
       "      <td>172.723572</td>\n",
       "      <td>94537600</td>\n",
       "    </tr>\n",
       "    <tr>\n",
       "      <th>3</th>\n",
       "      <td>2022-01-06</td>\n",
       "      <td>172.699997</td>\n",
       "      <td>175.300003</td>\n",
       "      <td>171.639999</td>\n",
       "      <td>172.000000</td>\n",
       "      <td>169.840271</td>\n",
       "      <td>96904000</td>\n",
       "    </tr>\n",
       "    <tr>\n",
       "      <th>4</th>\n",
       "      <td>2022-01-07</td>\n",
       "      <td>172.889999</td>\n",
       "      <td>174.139999</td>\n",
       "      <td>171.029999</td>\n",
       "      <td>172.169998</td>\n",
       "      <td>170.008133</td>\n",
       "      <td>86709100</td>\n",
       "    </tr>\n",
       "    <tr>\n",
       "      <th>...</th>\n",
       "      <td>...</td>\n",
       "      <td>...</td>\n",
       "      <td>...</td>\n",
       "      <td>...</td>\n",
       "      <td>...</td>\n",
       "      <td>...</td>\n",
       "      <td>...</td>\n",
       "    </tr>\n",
       "    <tr>\n",
       "      <th>496</th>\n",
       "      <td>2023-12-22</td>\n",
       "      <td>195.179993</td>\n",
       "      <td>195.410004</td>\n",
       "      <td>192.970001</td>\n",
       "      <td>193.600006</td>\n",
       "      <td>193.353287</td>\n",
       "      <td>37122800</td>\n",
       "    </tr>\n",
       "    <tr>\n",
       "      <th>497</th>\n",
       "      <td>2023-12-26</td>\n",
       "      <td>193.610001</td>\n",
       "      <td>193.889999</td>\n",
       "      <td>192.830002</td>\n",
       "      <td>193.050003</td>\n",
       "      <td>192.803986</td>\n",
       "      <td>28919300</td>\n",
       "    </tr>\n",
       "    <tr>\n",
       "      <th>498</th>\n",
       "      <td>2023-12-27</td>\n",
       "      <td>192.490005</td>\n",
       "      <td>193.500000</td>\n",
       "      <td>191.089996</td>\n",
       "      <td>193.149994</td>\n",
       "      <td>192.903839</td>\n",
       "      <td>48087700</td>\n",
       "    </tr>\n",
       "    <tr>\n",
       "      <th>499</th>\n",
       "      <td>2023-12-28</td>\n",
       "      <td>194.139999</td>\n",
       "      <td>194.660004</td>\n",
       "      <td>193.169998</td>\n",
       "      <td>193.580002</td>\n",
       "      <td>193.333298</td>\n",
       "      <td>34049900</td>\n",
       "    </tr>\n",
       "    <tr>\n",
       "      <th>500</th>\n",
       "      <td>2023-12-29</td>\n",
       "      <td>193.899994</td>\n",
       "      <td>194.399994</td>\n",
       "      <td>191.729996</td>\n",
       "      <td>192.529999</td>\n",
       "      <td>192.284637</td>\n",
       "      <td>42628800</td>\n",
       "    </tr>\n",
       "  </tbody>\n",
       "</table>\n",
       "<p>501 rows × 7 columns</p>\n",
       "</div>"
      ],
      "text/plain": [
       "          Date        Open        High         Low       Close   Adj Close  \\\n",
       "0   2022-01-03  177.830002  182.880005  177.710007  182.009995  179.724533   \n",
       "1   2022-01-04  182.630005  182.940002  179.119995  179.699997  177.443573   \n",
       "2   2022-01-05  179.610001  180.169998  174.639999  174.919998  172.723572   \n",
       "3   2022-01-06  172.699997  175.300003  171.639999  172.000000  169.840271   \n",
       "4   2022-01-07  172.889999  174.139999  171.029999  172.169998  170.008133   \n",
       "..         ...         ...         ...         ...         ...         ...   \n",
       "496 2023-12-22  195.179993  195.410004  192.970001  193.600006  193.353287   \n",
       "497 2023-12-26  193.610001  193.889999  192.830002  193.050003  192.803986   \n",
       "498 2023-12-27  192.490005  193.500000  191.089996  193.149994  192.903839   \n",
       "499 2023-12-28  194.139999  194.660004  193.169998  193.580002  193.333298   \n",
       "500 2023-12-29  193.899994  194.399994  191.729996  192.529999  192.284637   \n",
       "\n",
       "        Volume  \n",
       "0    104487900  \n",
       "1     99310400  \n",
       "2     94537600  \n",
       "3     96904000  \n",
       "4     86709100  \n",
       "..         ...  \n",
       "496   37122800  \n",
       "497   28919300  \n",
       "498   48087700  \n",
       "499   34049900  \n",
       "500   42628800  \n",
       "\n",
       "[501 rows x 7 columns]"
      ]
     },
     "metadata": {},
     "output_type": "display_data"
    }
   ],
   "source": [
    "import pathlib\n",
    "import os\n",
    "import sys\n",
    "import boto3\n",
    "\n",
    "CURRENT_DIR = pathlib.Path('.').resolve().parent\n",
    "\n",
    "# Adicione o diretório ao sys.path\n",
    "sys.path.append(str(CURRENT_DIR))\n",
    "\n",
    "from config import config\n",
    "\n",
    "import pandas as pd\n",
    "from datetime import datetime\n",
    "import yfinance as yf\n",
    "\n",
    "# data parameters\n",
    "start_date = datetime(2022,1,1)\n",
    "end_date = datetime(2024,1,1)\n",
    "\n",
    "# getting the data\n",
    "df_raw = yf.download('AAPL', start=start_date, end=end_date)\n",
    "df_raw.reset_index(inplace=True)\n",
    "\n",
    "display(df_raw)"
   ]
  },
  {
   "cell_type": "markdown",
   "id": "c22150b1-a589-40d0-b16d-e8331fefee4c",
   "metadata": {
    "tags": []
   },
   "source": [
    "# Transform Data"
   ]
  },
  {
   "cell_type": "markdown",
   "id": "caf10003-bd82-42da-b1d1-d313ccac29b1",
   "metadata": {},
   "source": [
    "## Drop Columns"
   ]
  },
  {
   "cell_type": "markdown",
   "id": "777c0f9d-1c1f-4dbf-91c0-71c3c6a82d54",
   "metadata": {},
   "source": [
    "Data: A coluna \"Date\" geralmente não é usada como uma feature nos modelos de previsão financeira, pois a ordem temporal já é capturada pela sequência das linhas do dataframe.\n",
    "\n",
    "Adj Close: A coluna \"Adj Close\" representa o preço de fechamento ajustado de uma ação, levando em consideração eventos como dividendos, divisões de ações, etc. Não vamos utilizar o preço de fechamento ajustado para a análise específica. Iremos descartar essa coluna para reduzir a dimensionalidade dos dados ou simplificar a análise."
   ]
  },
  {
   "cell_type": "code",
   "execution_count": 3,
   "id": "c3360568-5a25-47cb-9c27-c4a0affbfac2",
   "metadata": {
    "tags": []
   },
   "outputs": [],
   "source": [
    "df_transform = df_raw.copy()\n",
    "df_transform.drop(columns=['Date'], inplace=True)\n",
    "df_transform.drop(columns=['Adj Close'], inplace=True)"
   ]
  },
  {
   "cell_type": "markdown",
   "id": "cbec5e4c-33cf-4639-a53d-2e053f83124b",
   "metadata": {},
   "source": [
    "A estratégia abaixo cria um conjunto de dados onde cada linha contém um conjunto de features e um target (o valor da primeira coluna no dia seguinte). Como o problema proposto é previsão de séries temporais, usamos dados históricos para prever o próximo valor em uma série temporal. Neste caso, estamos utilizando a abertura do dia seguinte como target do dia anterior."
   ]
  },
  {
   "cell_type": "markdown",
   "id": "47b206b0-f644-4902-8c04-5e0647a4e48a",
   "metadata": {},
   "source": [
    "## Prepare Dataset"
   ]
  },
  {
   "cell_type": "code",
   "execution_count": 4,
   "id": "80b1fcd6-4fd8-4689-82ce-55dd6169fc32",
   "metadata": {
    "tags": []
   },
   "outputs": [],
   "source": [
    "# Todas as linhas, exceto a última.\n",
    "features = df_transform.iloc[:-1, :]\n",
    "\n",
    "# Todas as linhas, exceto a primeira.\n",
    "# Dessa forma, conseguimos pegar o fechamento desse dia.\n",
    "targets = df_transform.iloc[1:, 0]\n",
    "\n",
    "# Adiciona os targets como uma nova coluna em features, na primeira posição.\n",
    "features.insert(0, 'Target', targets.values)\n",
    "\n",
    "df_final = features.copy()\n",
    "df_final = df_final.sample(frac=1, random_state=config.SEED)"
   ]
  },
  {
   "cell_type": "markdown",
   "id": "7488081a-298c-4b95-948f-5d9c26630e17",
   "metadata": {
    "tags": []
   },
   "source": [
    "## Split Data"
   ]
  },
  {
   "cell_type": "code",
   "execution_count": 5,
   "id": "1c4eb56f-e037-477d-95cd-59a4736bbac8",
   "metadata": {
    "tags": []
   },
   "outputs": [
    {
     "name": "stdout",
     "output_type": "stream",
     "text": [
      "Train shape 400\n",
      "Test shape 100\n"
     ]
    }
   ],
   "source": [
    "# Número de linhas para treinamento (80%)\n",
    "train_size = int(len(df_final) * 0.8)\n",
    "\n",
    "# DataFrame de treinamento\n",
    "train_data = df_final.iloc[:train_size]\n",
    "\n",
    "# DataFrame de teste\n",
    "test_data = df_final.iloc[train_size:]\n",
    "\n",
    "print('Train shape', len(train_data))\n",
    "print('Test shape', len(test_data))"
   ]
  },
  {
   "cell_type": "markdown",
   "id": "9ad33ecf-6233-48f3-86cf-b2c107e1b605",
   "metadata": {
    "tags": []
   },
   "source": [
    "# Load to S3 Bucket"
   ]
  },
  {
   "cell_type": "code",
   "execution_count": 6,
   "id": "3b457f9d-c380-460c-bd5a-ee202a6d9f03",
   "metadata": {
    "tags": []
   },
   "outputs": [
    {
     "name": "stderr",
     "output_type": "stream",
     "text": [
      "/home/ec2-user/anaconda3/envs/python3/lib/python3.10/site-packages/fsspec/registry.py:273: UserWarning: Your installed version of s3fs is very old and known to cause\n",
      "severe performance issues, see also https://github.com/dask/dask/issues/10276\n",
      "\n",
      "To fix, you should specify a lower version bound on s3fs, or\n",
      "update the current installation.\n",
      "\n",
      "  warnings.warn(s3_msg)\n"
     ]
    }
   ],
   "source": [
    "train_data.to_csv(config.TRAIN_CSV_PATH, index=False, header=False)\n",
    "test_data.to_csv(config.TEST_CSV_PATH, index=False, header=False)"
   ]
  }
 ],
 "metadata": {
  "kernelspec": {
   "display_name": "conda_python3",
   "language": "python",
   "name": "conda_python3"
  },
  "language_info": {
   "codemirror_mode": {
    "name": "ipython",
    "version": 3
   },
   "file_extension": ".py",
   "mimetype": "text/x-python",
   "name": "python",
   "nbconvert_exporter": "python",
   "pygments_lexer": "ipython3",
   "version": "3.10.13"
  }
 },
 "nbformat": 4,
 "nbformat_minor": 5
}
